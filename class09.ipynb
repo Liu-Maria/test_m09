{
 "cells": [
  {
   "cell_type": "code",
   "execution_count": 4,
   "id": "9152b524-1f57-4519-acd3-eb1de187a8dc",
   "metadata": {},
   "outputs": [],
   "source": [
    "def my_function():\n",
    "    \"\"\"it's a function\"\"\"\n",
    "    print(\"function\")"
   ]
  },
  {
   "cell_type": "code",
   "execution_count": null,
   "id": "fe895906-6806-4676-9162-8a6af868ba1f",
   "metadata": {},
   "outputs": [],
   "source": []
  }
 ],
 "metadata": {
  "kernelspec": {
   "display_name": "Python 3 (ipykernel)",
   "language": "python",
   "name": "python3"
  },
  "language_info": {
   "codemirror_mode": {
    "name": "ipython",
    "version": 3
   },
   "file_extension": ".py",
   "mimetype": "text/x-python",
   "name": "python",
   "nbconvert_exporter": "python",
   "pygments_lexer": "ipython3",
   "version": "3.9.7"
  }
 },
 "nbformat": 4,
 "nbformat_minor": 5
}
